{
 "cells": [
  {
   "cell_type": "code",
   "execution_count": 2,
   "metadata": {
    "collapsed": false
   },
   "outputs": [],
   "source": [
    "import numpy as np\n",
    "import scipy as sp \n",
    "import matplotlib.pyplot as plt\n",
    "%matplotlib inline\n",
    "\n",
    "import mpfit\n",
    "from utility.plotting import prettyplot\n",
    "from utility.plotting import prettycolors"
   ]
  },
  {
   "cell_type": "code",
   "execution_count": null,
   "metadata": {
    "collapsed": true
   },
   "outputs": [],
   "source": [
    "from tophat_fibcoll_corr_test"
   ]
  },
  {
   "cell_type": "code",
   "execution_count": null,
   "metadata": {
    "collapsed": true
   },
   "outputs": [],
   "source": [
    "prettyplot()\n",
    "pretty_colors = prettycolors()"
   ]
  },
  {
   "cell_type": "code",
   "execution_count": null,
   "metadata": {
    "collapsed": true
   },
   "outputs": [],
   "source": [
    "# import P(k) data \n",
    "k, p0k, p2k = np.loadtxt('POWER_Q_CutskyN1.fidcosmo.dat.grid360.P020000.box3600', unpack=True, usecols=[0,1,2])"
   ]
  },
  {
   "cell_type": "code",
   "execution_count": null,
   "metadata": {
    "collapsed": false
   },
   "outputs": [],
   "source": [
    "# plot P(k) data\n",
    "fig = plt.figure(figsize=(10,10))\n",
    "sub = fig.add_subplot(111)\n",
    "\n",
    "sub.plot(k, p0k, label=r\"$P_0(k)$\", c=pretty_colors[1], lw=4)\n",
    "sub.plot(k, p2k, label=r\"$P_2(k)$\", c=pretty_colors[3], lw=4)\n",
    "\n",
    "sub.set_xlim([1e-3, 1.0])\n",
    "sub.set_xscale('log')\n",
    "sub.set_yscale('log')\n",
    "sub.legend(loc='lower left')\n",
    "plt.show()"
   ]
  },
  {
   "cell_type": "markdown",
   "metadata": {},
   "source": [
    "## $P(k > k_{max})$ Extrapolation \n",
    "Model: \n",
    "$$P(k > k_{max}) = \\alpha \\left(\\frac{k}{0.3}\\right)^n$$\n",
    "where $k_{max} \\sim 0.25$"
   ]
  },
  {
   "cell_type": "code",
   "execution_count": null,
   "metadata": {
    "collapsed": true
   },
   "outputs": [],
   "source": [
    "def pk_powerlaw(param, fjac=None, x=None, y=None): \n",
    "    '''\n",
    "    P(k) = alpha * k^n \n",
    "    \n",
    "    param = [alpha, n]\n",
    "    '''\n",
    "    model = param[0] * (x/0.3)**param[1]\n",
    "    status = 0 \n",
    "    return([status, y-model])"
   ]
  },
  {
   "cell_type": "markdown",
   "metadata": {},
   "source": [
    "## Determining best fit parameters $\\alpha$ and $n$\n",
    "\n",
    "For Monopole: "
   ]
  },
  {
   "cell_type": "code",
   "execution_count": null,
   "metadata": {
    "collapsed": true
   },
   "outputs": [],
   "source": [
    "def pk_bestfit(k_in, pk_in, k_max=0.25, quiet=True): \n",
    "    \n",
    "    fit_range = np.where(k_in > k_max)\n",
    "    \n",
    "    fa = {'x': k_in[fit_range], 'y': pk_in[fit_range]}\n",
    "    param_guess = [pk_in[-1], -2.]\n",
    "    bestfit = mpfit.mpfit(pk_powerlaw, param_guess, functkw=fa, quiet=quiet)\n",
    "    \n",
    "    alpha = bestfit.params[0]\n",
    "    n = bestfit.params[1]\n",
    "    return alpha, n\n"
   ]
  },
  {
   "cell_type": "code",
   "execution_count": null,
   "metadata": {
    "collapsed": false
   },
   "outputs": [],
   "source": [
    "for k_test in np.arange(0.2, 0.325, 0.025): \n",
    "    alph, nn = pk_bestfit(k, p0k, k_max=k_test)\n",
    "    print 'Bestfit Parameters for ', k_test, '< k < ', k[-1], ':'\n",
    "    print 'alpha = ', alph, ' n = ', nn\n",
    "    "
   ]
  },
  {
   "cell_type": "code",
   "execution_count": null,
   "metadata": {
    "collapsed": false
   },
   "outputs": [],
   "source": [
    "# plot P(k) data\n",
    "fig2 = plt.figure(2, figsize=(10,10))\n",
    "sub = fig2.add_subplot(111)\n",
    "\n",
    "for i_test, k_test in enumerate(np.arange(0.2, 0.325, 0.025)): \n",
    "    alph, nn = pk_bestfit(k, p0k, k_max=k_test)\n",
    "    \n",
    "    xarr = np.arange(0.2, 1.0, 0.025)\n",
    "    sublabel = r\"$\\alpha = \"+str(round(alph))+\", n=\"+str(round(nn,2))+\"$\"+''.join([': ', str(round(k_test,3)), ' < k < ', str(round(k[-1],3))])\n",
    "\n",
    "    sub.plot(\n",
    "        xarr, \n",
    "        alph * (xarr/0.3)**nn, \n",
    "        lw=4, \n",
    "        ls='--', \n",
    "        c=pretty_colors[i_test], \n",
    "        label= sublabel\n",
    "    )\n",
    "\n",
    "sub.scatter(k, p0k, label=r\"$P_0(k)$\", color='k', s=12)\n",
    "\n",
    "sub.set_xlim([1e-1, 1.0])\n",
    "sub.set_ylim([10**2, 10**4.5])\n",
    "sub.set_xscale('log')\n",
    "sub.set_yscale('log')\n",
    "sub.set_ylabel('$\\mathtt{P_0(k)}$', fontsize=40)\n",
    "sub.set_xlabel('$\\mathtt{k}\\;\\; (h/\\mathtt{Mpc})$', fontsize=40)\n",
    "sub.legend(loc='lower left', scatterpoints=1)\n",
    "plt.show()"
   ]
  },
  {
   "cell_type": "markdown",
   "metadata": {},
   "source": [
    "For Quadrupole"
   ]
  },
  {
   "cell_type": "code",
   "execution_count": null,
   "metadata": {
    "collapsed": false,
    "scrolled": true
   },
   "outputs": [],
   "source": [
    "# plot P(k) data\n",
    "fig2 = plt.figure(2, figsize=(10,10))\n",
    "sub = fig2.add_subplot(111)\n",
    "\n",
    "for i_test, k_test in enumerate(np.arange(0.2, 0.325, 0.025)): \n",
    "    alph, nn = pk_bestfit(k, p2k, k_max=k_test)\n",
    "    \n",
    "    sublabel = r\"$\\alpha = \"+str(round(alph))+\", n=\"+str(round(nn,2))+\"$\"+''.join([': ', str(round(k_test,3)), ' < k < ', str(round(k[-1],3))])\n",
    "    xarr = np.arange(0.2, 1.0, 0.025)\n",
    "\n",
    "    sub.plot(\n",
    "        xarr, \n",
    "        alph * (xarr/0.3)**nn, \n",
    "        lw=4, \n",
    "        ls='--', \n",
    "        c=pretty_colors[i_test], \n",
    "        label= sublabel\n",
    "    )\n",
    "\n",
    "sub.scatter(k, p2k, label=r\"$P_2(k)$\", color='k', s=12)\n",
    "\n",
    "sub.set_xlim([1e-1, 1.0])\n",
    "sub.set_ylim([10.**0., 10**5.5])\n",
    "sub.set_xscale('log')\n",
    "sub.set_yscale('log')\n",
    "sub.set_ylabel('$\\mathtt{P_2(k)}$', fontsize=40)\n",
    "sub.set_xlabel('$\\mathtt{k}\\;\\; (h/\\mathtt{Mpc})$', fontsize=40)\n",
    "sub.legend(loc='upper right', scatterpoints=1)\n",
    "plt.show()"
   ]
  },
  {
   "cell_type": "code",
   "execution_count": null,
   "metadata": {
    "collapsed": true
   },
   "outputs": [],
   "source": []
  }
 ],
 "metadata": {
  "kernelspec": {
   "display_name": "Python 2",
   "language": "python",
   "name": "python2"
  }
 },
 "nbformat": 4,
 "nbformat_minor": 0
}
